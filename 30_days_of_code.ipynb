{
 "cells": [
  {
   "cell_type": "markdown",
   "metadata": {},
   "source": [
    "### Day 1\n",
    "\n",
    "**Objective**\n",
    "\n",
    "Today, we're discussing data types. Check out the Tutorial tab for learning materials and an instructional video!\n",
    "\n",
    "\n",
    "\n",
    "Complete the code in the editor below. The variables `i`, `d`, and `s` are already declared and initialized for you. You must:\n",
    "\n",
    "1. Declare 3 variables: one of type int, one of type double, and one of type String.\n",
    "2. Read 3 lines of input from stdin (according to the sequence given in the Input Format section below) and initialize your 3 variables.\n",
    "3. Use the + operator to perform the following operations:\n",
    "    1. Print the sum of `i` plus your int variable on a new line.\n",
    "    2. Print the sum of `d` plus your double variable to a scale of one decimal place on a new line.\n",
    "    3/ Concatenate `s` with the string you read as input and print the result on a new line.\n",
    "\n",
    "**Note**: If you are using a language that doesn't support using + for string concatenation (e.g.: C), you can just print one variable immediately following the other on the same line. The string provided in your editor must be printed first, immediately followed by the string you read as input.\n",
    "\n",
    "**Input Format**\n",
    "\n",
    "The first line contains an integer that you must sum with .\n",
    "The second line contains a double that you must sum with .\n",
    "The third line contains a string that you must concatenate with .\n",
    "\n",
    "**Output Format**\n",
    "\n",
    "Print the sum of both integers on the first line, the sum of both doubles (scaled to  decimal place) on the second line, and then the two concatenated strings on the third line.\n",
    "\n",
    "**Sample Input**\n",
    "\n",
    "> 12\n",
    "> 4.0\n",
    "> is the best place to learn and practice coding!\n",
    "\n",
    "**Sample Output**\n",
    "\n",
    "> 16\n",
    "> 8.0\n",
    "> HackerRank is the best place to learn and practice coding!\n",
    "\n",
    "**Explanation**\n",
    "\n",
    "When we sum the integers 4 and 12, we get the integer 16.\n",
    "When we sum the floating-point numbers 4.0 and 4.0, we get 8.0.\n",
    "When we concatenate ``HackerRank` with `is the best place to learn and practice coding!`, we get `HackerRank is the best place to learn and practice coding!`.\n",
    "\n",
    "You will not pass this challenge if you attempt to assign the Sample Case values to your variables instead of following the instructions above and reading input from stdin."
   ]
  },
  {
   "cell_type": "code",
   "execution_count": 1,
   "metadata": {},
   "outputs": [
    {
     "name": "stdout",
     "output_type": "stream",
     "text": [
      "16\n",
      "12.0\n",
      "HackerRank is great\n"
     ]
    }
   ],
   "source": [
    "i = 4\n",
    "d = 4.0\n",
    "s = 'HackerRank '\n",
    "# Declare second integer, double, and String variables.\n",
    "\n",
    "\n",
    "# Read and save an integer, double, and String to your variables.\n",
    "\n",
    "i2 = int(input())\n",
    "d2 = float(input())\n",
    "st = input()\n",
    "\n",
    "# Print the sum of both integer variables on a new line.\n",
    "\n",
    "print(i+i2)\n",
    "\n",
    "# Print the sum of the double variables on a new line.\n",
    "\n",
    "print(d+d2)\n",
    "\n",
    "# Concatenate and print the String variables on a new line\n",
    "# The 's' variable above should be printed first.\n",
    "\n",
    "print (s +st)"
   ]
  },
  {
   "cell_type": "markdown",
   "metadata": {},
   "source": [
    "---\n"
   ]
  },
  {
   "cell_type": "markdown",
   "metadata": {},
   "source": [
    "\n",
    "## Day 2: Operators\n",
    "\n",
    "**Task**\n",
    "\n",
    "Given the meal price (base cost of a meal), tip percent (the percentage of the meal price being added as tip), and tax percent (the percentage of the meal price being added as tax) for a meal, find and print the meal's total cost. Round the result to the nearest integer.\n",
    "\n",
    "**Example**\n",
    "\n",
    "`meal_cost = 100`\n",
    "`tip_percent = 15`\n",
    "`tax_percent = 8`\n",
    "\n",
    "A tip of 15% * 100 = 15, and the taxes are 8% * 100 = 8. Print the value `123` and return from the function.\n",
    "\n",
    "**Function Description**\n",
    "\n",
    "Complete the solve function in the editor below.\n",
    "\n",
    "solve has the following parameters:\n",
    "\n",
    "- int meal_cost: the cost of food before tip and tax\n",
    "- int tip_percent: the tip percentage\n",
    "- int tax_percent: the tax percentage\n",
    "\n",
    "Returns The function returns nothing. Print the calculated value, rounded to the nearest integer.\n",
    "\n",
    "Note: Be sure to use precise values for your calculations, or you may end up with an incorrectly rounded result.\n",
    "\n",
    "Input Format\n",
    "\n",
    "There are 3 lines of numeric input:\n",
    "The first line has a double, `meal_cost` (the cost of the meal before tax and tip).\n",
    "The second line has an integer, `tip_percent` (the percentage of `meal_cost` being added as tip).\n",
    "The third line has an integer, `tax_percent` (the percentage of `meal_cost` being added as tax).\n",
    "\n",
    "**Sample Input**\n",
    "\n",
    "> 12.00\n",
    "\n",
    "> 20\n",
    "\n",
    "> 8\n",
    "\n",
    "**Sample Output**\n",
    "\n",
    "> 15"
   ]
  },
  {
   "cell_type": "code",
   "execution_count": 2,
   "metadata": {},
   "outputs": [
    {
     "name": "stdout",
     "output_type": "stream",
     "text": [
      "15\n"
     ]
    }
   ],
   "source": [
    "#!/bin/python3\n",
    "\n",
    "import math\n",
    "import os\n",
    "import random\n",
    "import re\n",
    "import sys\n",
    "\n",
    "#\n",
    "# Complete the 'solve' function below.\n",
    "#\n",
    "# The function accepts following parameters:\n",
    "#  1. DOUBLE meal_cost\n",
    "#  2. INTEGER tip_percent\n",
    "#  3. INTEGER tax_percent\n",
    "#\n",
    "\n",
    "def solve(meal_cost, tip_percent, tax_percent):\n",
    "    # Write your code here\n",
    "    total = round(meal_cost + meal_cost * tip_percent /100 + meal_cost * tax_percent /100)\n",
    "    print(total)\n",
    "if __name__ == '__main__':\n",
    "    meal_cost = float(input().strip())\n",
    "\n",
    "    tip_percent = int(input().strip())\n",
    "\n",
    "    tax_percent = int(input().strip())\n",
    "\n",
    "    solve(meal_cost, tip_percent, tax_percent)\n"
   ]
  },
  {
   "cell_type": "code",
   "execution_count": null,
   "metadata": {},
   "outputs": [],
   "source": []
  }
 ],
 "metadata": {
  "interpreter": {
   "hash": "38cca0c38332a56087b24af0bc80247f4fced29cb4f7f437d91dc159adec9c4e"
  },
  "kernelspec": {
   "display_name": "Python 3.8.12 ('base')",
   "language": "python",
   "name": "python3"
  },
  "language_info": {
   "codemirror_mode": {
    "name": "ipython",
    "version": 3
   },
   "file_extension": ".py",
   "mimetype": "text/x-python",
   "name": "python",
   "nbconvert_exporter": "python",
   "pygments_lexer": "ipython3",
   "version": "3.8.12"
  },
  "orig_nbformat": 4
 },
 "nbformat": 4,
 "nbformat_minor": 2
}
