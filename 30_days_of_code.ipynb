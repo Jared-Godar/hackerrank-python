{
 "cells": [
  {
   "cell_type": "markdown",
   "metadata": {},
   "source": [
    "### Day 1\n",
    "\n",
    "**Objective**\n",
    "\n",
    "Today, we're discussing data types. Check out the Tutorial tab for learning materials and an instructional video!\n",
    "\n",
    "\n",
    "\n",
    "Complete the code in the editor below. The variables `i`, `d`, and `s` are already declared and initialized for you. You must:\n",
    "\n",
    "1. Declare 3 variables: one of type int, one of type double, and one of type String.\n",
    "2. Read 3 lines of input from stdin (according to the sequence given in the Input Format section below) and initialize your 3 variables.\n",
    "3. Use the + operator to perform the following operations:\n",
    "    1. Print the sum of `i` plus your int variable on a new line.\n",
    "    2. Print the sum of `d` plus your double variable to a scale of one decimal place on a new line.\n",
    "    3/ Concatenate `s` with the string you read as input and print the result on a new line.\n",
    "\n",
    "**Note**: If you are using a language that doesn't support using + for string concatenation (e.g.: C), you can just print one variable immediately following the other on the same line. The string provided in your editor must be printed first, immediately followed by the string you read as input.\n",
    "\n",
    "**Input Format**\n",
    "\n",
    "The first line contains an integer that you must sum with .\n",
    "The second line contains a double that you must sum with .\n",
    "The third line contains a string that you must concatenate with .\n",
    "\n",
    "**Output Format**\n",
    "\n",
    "Print the sum of both integers on the first line, the sum of both doubles (scaled to  decimal place) on the second line, and then the two concatenated strings on the third line.\n",
    "\n",
    "**Sample Input**\n",
    "\n",
    "> 12\n",
    "> 4.0\n",
    "> is the best place to learn and practice coding!\n",
    "\n",
    "**Sample Output**\n",
    "\n",
    "> 16\n",
    "> 8.0\n",
    "> HackerRank is the best place to learn and practice coding!\n",
    "\n",
    "**Explanation**\n",
    "\n",
    "When we sum the integers 4 and 12, we get the integer 16.\n",
    "When we sum the floating-point numbers 4.0 and 4.0, we get 8.0.\n",
    "When we concatenate ``HackerRank` with `is the best place to learn and practice coding!`, we get `HackerRank is the best place to learn and practice coding!`.\n",
    "\n",
    "You will not pass this challenge if you attempt to assign the Sample Case values to your variables instead of following the instructions above and reading input from stdin."
   ]
  },
  {
   "cell_type": "code",
   "execution_count": 1,
   "metadata": {},
   "outputs": [
    {
     "name": "stdout",
     "output_type": "stream",
     "text": [
      "16\n",
      "12.0\n",
      "HackerRank is great\n"
     ]
    }
   ],
   "source": [
    "i = 4\n",
    "d = 4.0\n",
    "s = 'HackerRank '\n",
    "# Declare second integer, double, and String variables.\n",
    "\n",
    "\n",
    "# Read and save an integer, double, and String to your variables.\n",
    "\n",
    "i2 = int(input())\n",
    "d2 = float(input())\n",
    "st = input()\n",
    "\n",
    "# Print the sum of both integer variables on a new line.\n",
    "\n",
    "print(i+i2)\n",
    "\n",
    "# Print the sum of the double variables on a new line.\n",
    "\n",
    "print(d+d2)\n",
    "\n",
    "# Concatenate and print the String variables on a new line\n",
    "# The 's' variable above should be printed first.\n",
    "\n",
    "print (s +st)"
   ]
  },
  {
   "cell_type": "markdown",
   "metadata": {},
   "source": [
    "---\n"
   ]
  },
  {
   "cell_type": "markdown",
   "metadata": {},
   "source": [
    "\n",
    "## Day 2: Operators\n",
    "\n",
    "**Task**\n",
    "\n",
    "Given the meal price (base cost of a meal), tip percent (the percentage of the meal price being added as tip), and tax percent (the percentage of the meal price being added as tax) for a meal, find and print the meal's total cost. Round the result to the nearest integer.\n",
    "\n",
    "**Example**\n",
    "\n",
    "`meal_cost = 100`\n",
    "`tip_percent = 15`\n",
    "`tax_percent = 8`\n",
    "\n",
    "A tip of 15% * 100 = 15, and the taxes are 8% * 100 = 8. Print the value `123` and return from the function.\n",
    "\n",
    "**Function Description**\n",
    "\n",
    "Complete the solve function in the editor below.\n",
    "\n",
    "solve has the following parameters:\n",
    "\n",
    "- int meal_cost: the cost of food before tip and tax\n",
    "- int tip_percent: the tip percentage\n",
    "- int tax_percent: the tax percentage\n",
    "\n",
    "Returns The function returns nothing. Print the calculated value, rounded to the nearest integer.\n",
    "\n",
    "Note: Be sure to use precise values for your calculations, or you may end up with an incorrectly rounded result.\n",
    "\n",
    "Input Format\n",
    "\n",
    "There are 3 lines of numeric input:\n",
    "The first line has a double, `meal_cost` (the cost of the meal before tax and tip).\n",
    "The second line has an integer, `tip_percent` (the percentage of `meal_cost` being added as tip).\n",
    "The third line has an integer, `tax_percent` (the percentage of `meal_cost` being added as tax).\n",
    "\n",
    "**Sample Input**\n",
    "\n",
    "> 12.00\n",
    "\n",
    "> 20\n",
    "\n",
    "> 8\n",
    "\n",
    "**Sample Output**\n",
    "\n",
    "> 15"
   ]
  },
  {
   "cell_type": "code",
   "execution_count": 2,
   "metadata": {},
   "outputs": [
    {
     "name": "stdout",
     "output_type": "stream",
     "text": [
      "15\n"
     ]
    }
   ],
   "source": [
    "#!/bin/python3\n",
    "\n",
    "import math\n",
    "import os\n",
    "import random\n",
    "import re\n",
    "import sys\n",
    "\n",
    "#\n",
    "# Complete the 'solve' function below.\n",
    "#\n",
    "# The function accepts following parameters:\n",
    "#  1. DOUBLE meal_cost\n",
    "#  2. INTEGER tip_percent\n",
    "#  3. INTEGER tax_percent\n",
    "#\n",
    "\n",
    "def solve(meal_cost, tip_percent, tax_percent):\n",
    "    # Write your code here\n",
    "    total = round(meal_cost + meal_cost * tip_percent /100 + meal_cost * tax_percent /100)\n",
    "    print(total)\n",
    "if __name__ == '__main__':\n",
    "    meal_cost = float(input().strip())\n",
    "\n",
    "    tip_percent = int(input().strip())\n",
    "\n",
    "    tax_percent = int(input().strip())\n",
    "\n",
    "    solve(meal_cost, tip_percent, tax_percent)\n"
   ]
  },
  {
   "cell_type": "markdown",
   "metadata": {},
   "source": [
    "---"
   ]
  },
  {
   "cell_type": "markdown",
   "metadata": {},
   "source": [
    "## Day 3: Intro to Conditional Statements\n",
    "\n"
   ]
  },
  {
   "cell_type": "markdown",
   "metadata": {},
   "source": [
    "**Objective**\n",
    "In this challenge, we learn about conditional statements. Check out the Tutorial tab for learning materials and an instructional video.\n",
    "\n",
    "**Task**\n",
    "Given an integer,`n`, perform the following conditional actions:\n",
    "\n",
    "If `n` is odd, print Weird\n",
    "If `n` is even and in the inclusive range of 2 to 5, print Not Weird\n",
    "If `n` is even and in the inclusive range of 6 to 20, print Weird\n",
    "If `n` is even and greater than 20, print Not Weird\n",
    "\n",
    "Complete the stub code provided in your editor to print whether or not `n` is weird."
   ]
  },
  {
   "cell_type": "code",
   "execution_count": 4,
   "metadata": {},
   "outputs": [
    {
     "name": "stdout",
     "output_type": "stream",
     "text": [
      "Weird\n"
     ]
    }
   ],
   "source": [
    "if __name__ == '__main__':\n",
    "    N = int(input().strip())\n",
    "    if ((N%2==0) and N < 5) or ((N%2==0) and N > 20):\n",
    "        print('Not Weird');\n",
    "    else:\n",
    "        print('Weird');"
   ]
  },
  {
   "cell_type": "markdown",
   "metadata": {},
   "source": [
    "---"
   ]
  },
  {
   "cell_type": "markdown",
   "metadata": {},
   "source": [
    "## Day 4: Class vs. Instance\n",
    "\n",
    "**Objective**\n",
    "In this challenge, we're going to learn about the difference between a class and an instance; because this is an Object Oriented concept, it's only enabled in certain languages. Check out the Tutorial tab for learning materials and an instructional video!\n",
    "\n",
    "**Task**\n",
    "Write a Person class with an instance variable, `age` , and a constructor that takes an integer, `initialAge`, as a parameter. The constructor must assign `initialAge` to `age` after confirming the argument passed as `initialAge` is not negative; if a negative argument is passed as `initialAge`, the constructor should set `age` to 0 and print `Age is not valid, setting age to 0.`. In addition, you must write the following instance methods:\n",
    "\n",
    "1. `yearPasses()` should increase the `age` instance variable by 1.\n",
    "2. `amIOld()` should perform the following conditional actions:\n",
    "    - If `age<13`>, print`You are young.`.\n",
    "    - If `age<=13`> and `age<18`>, print `You are a teenager.`\n",
    "    - Otherwise, print `You are old.`.\n",
    "  \n",
    "To help you learn by example and complete this challenge, much of the code is provided for you, but you'll be writing everything in the future. The code that creates each instance of your Person class is in the main method. Don't worry if you don't understand it all quite yet!"
   ]
  },
  {
   "cell_type": "code",
   "execution_count": 5,
   "metadata": {},
   "outputs": [],
   "source": [
    "class Person:\n",
    "    def __init__(self,initialAge):\n",
    "        # Add some more code to run some checks on initialAge\n",
    "        if initialAge < 0:\n",
    "            self.age = 0\n",
    "            print('Age is not valid, setting age to 0.');\n",
    "        else:\n",
    "            self.age = initialAge\n",
    "    def amIOld(self):\n",
    "        # Do some computations in here and print out the correct statement to the console\n",
    "        if self.age < 13:\n",
    "            print('You are young.')\n",
    "        elif self.age < 18:\n",
    "            print('You are a teenager.')\n",
    "        else:\n",
    "            print('You are old.')\n",
    "    def yearPasses(self):\n",
    "        # Increment the age of the person in here\n",
    "        self.age+=1\n",
    "\n",
    "t = int(input())"
   ]
  },
  {
   "cell_type": "markdown",
   "metadata": {},
   "source": [
    "---"
   ]
  },
  {
   "cell_type": "markdown",
   "metadata": {},
   "source": [
    "## Day 5: Loops\n",
    "\n",
    "**Objective**\n",
    "In this challenge, we will use loops to do some math. Check out the Tutorial tab to learn more.\n",
    "\n",
    "**Task**\n",
    "Given an integer, `n` , print its first 10 multiples. Each multiple `n*i`  (where 1<=1<=10>>) should be printed on a new line in the form: n x i = result.\n",
    "\n",
    "Example\n",
    "\n",
    "The printout should look like this:\n",
    "\n",
    "3 x 1 = 3\n",
    "\n",
    "3 x 2 = 6\n",
    "\n",
    "3 x 3 = 9\n",
    "\n",
    "3 x 4 = 12\n",
    "\n",
    "3 x 5 = 15\n",
    "\n",
    "3 x 6 = 18\n",
    "\n",
    "3 x 7 = 21\n",
    "\n",
    "3 x 8 = 24\n",
    "\n",
    "3 x 9 = 27\n",
    "\n",
    "3 x 10 = 30\n",
    "\n"
   ]
  },
  {
   "cell_type": "code",
   "execution_count": 1,
   "metadata": {},
   "outputs": [
    {
     "name": "stdout",
     "output_type": "stream",
     "text": [
      "5 x 1 = 5\n",
      "5 x 2 = 10\n",
      "5 x 3 = 15\n",
      "5 x 4 = 20\n",
      "5 x 5 = 25\n",
      "5 x 6 = 30\n",
      "5 x 7 = 35\n",
      "5 x 8 = 40\n",
      "5 x 9 = 45\n",
      "5 x 10 = 50\n"
     ]
    }
   ],
   "source": [
    "import math\n",
    "import os\n",
    "import random\n",
    "import re\n",
    "import sys\n",
    "\n",
    "\n",
    "\n",
    "if __name__ == '__main__':\n",
    "    n = int(input().strip())\n",
    "    for i in range(1, 11):\n",
    "        p=n*i\n",
    "        print(f'{n} x {i} = {p}')"
   ]
  },
  {
   "cell_type": "markdown",
   "metadata": {},
   "source": [
    "---\n",
    "## Day 8: Dictionaries and maps"
   ]
  },
  {
   "cell_type": "markdown",
   "metadata": {},
   "source": [
    "**Task**\n",
    "\n",
    "Given `n` names and phone numbers, assemble a phone book that maps friends' names to their respective phone numbers. You will then be given an unknown number of names to query your phone book for. For each `name` queried, print the associated entry from your phone book on a new line in the form name=phoneNumber; if an entry for `name` is not found, print `Not found` instead.\n",
    "\n",
    "Note: Your phone book should be a Dictionary/Map/HashMap data structure.\n",
    "\n",
    "**Input Format**\n",
    "\n",
    "The first line contains an integer,`n`, denoting the number of entries in the phone book.\n",
    "Each of the `n` subsequent lines describes an entry in the form of 2 space-separated values on a single line. The first value is a friend's name, and the second value is an 8-digit phone number.\n",
    "\n",
    "After the `n` lines of phone book entries, there are an unknown number of lines of queries. Each line (query) contains a `name` to look up, and you must continue reading lines until there is no more input.\n",
    "\n",
    "Note: Names consist of lowercase English alphabetic letters and are first names only.\n",
    "\n",
    "**Constraints**\n",
    "\n",
    ">1<=n<=1-^5\n",
    ">1<=queries<=1-^5\n",
    "\n",
    "**Output Format** \n",
    "\n",
    "On a new line for each query, print Not found if the name has no corresponding entry in the phone book; otherwise, print the full `name`  and `phoneNumber` in the format name=phoneNumber."
   ]
  },
  {
   "cell_type": "code",
   "execution_count": 2,
   "metadata": {},
   "outputs": [
    {
     "name": "stdout",
     "output_type": "stream",
     "text": [
      "Not found\n",
      "Not found\n",
      "Not found\n",
      "Not found\n",
      "Not found\n"
     ]
    },
    {
     "ename": "KeyboardInterrupt",
     "evalue": "Interrupted by user",
     "output_type": "error",
     "traceback": [
      "\u001b[0;31m---------------------------------------------------------------------------\u001b[0m",
      "\u001b[0;31mKeyboardInterrupt\u001b[0m                         Traceback (most recent call last)",
      "\u001b[0;32m/var/folders/9y/17ptyrds267724n2_7s7hx340000gn/T/ipykernel_95185/1175634137.py\u001b[0m in \u001b[0;36m<module>\u001b[0;34m\u001b[0m\n\u001b[1;32m     11\u001b[0m \u001b[0;32mwhile\u001b[0m \u001b[0;32mTrue\u001b[0m\u001b[0;34m:\u001b[0m\u001b[0;34m\u001b[0m\u001b[0;34m\u001b[0m\u001b[0m\n\u001b[1;32m     12\u001b[0m     \u001b[0;32mtry\u001b[0m\u001b[0;34m:\u001b[0m\u001b[0;34m\u001b[0m\u001b[0;34m\u001b[0m\u001b[0m\n\u001b[0;32m---> 13\u001b[0;31m         \u001b[0minpt\u001b[0m \u001b[0;34m=\u001b[0m \u001b[0minput\u001b[0m\u001b[0;34m(\u001b[0m\u001b[0;34m)\u001b[0m\u001b[0;34m\u001b[0m\u001b[0;34m\u001b[0m\u001b[0m\n\u001b[0m\u001b[1;32m     14\u001b[0m         \u001b[0;32mif\u001b[0m \u001b[0minpt\u001b[0m \u001b[0;32min\u001b[0m \u001b[0mdphone\u001b[0m\u001b[0;34m:\u001b[0m\u001b[0;34m\u001b[0m\u001b[0;34m\u001b[0m\u001b[0m\n\u001b[1;32m     15\u001b[0m             \u001b[0mprint\u001b[0m\u001b[0;34m(\u001b[0m\u001b[0minpt\u001b[0m\u001b[0;34m+\u001b[0m\u001b[0;34m\"=\"\u001b[0m\u001b[0;34m+\u001b[0m\u001b[0mdphone\u001b[0m\u001b[0;34m[\u001b[0m\u001b[0minpt\u001b[0m\u001b[0;34m]\u001b[0m\u001b[0;34m)\u001b[0m\u001b[0;34m\u001b[0m\u001b[0;34m\u001b[0m\u001b[0m\n",
      "\u001b[0;32m/opt/homebrew/anaconda3/lib/python3.8/site-packages/ipykernel/kernelbase.py\u001b[0m in \u001b[0;36mraw_input\u001b[0;34m(self, prompt)\u001b[0m\n\u001b[1;32m   1005\u001b[0m                 \u001b[0;34m\"raw_input was called, but this frontend does not support input requests.\"\u001b[0m\u001b[0;34m\u001b[0m\u001b[0;34m\u001b[0m\u001b[0m\n\u001b[1;32m   1006\u001b[0m             )\n\u001b[0;32m-> 1007\u001b[0;31m         return self._input_request(\n\u001b[0m\u001b[1;32m   1008\u001b[0m             \u001b[0mstr\u001b[0m\u001b[0;34m(\u001b[0m\u001b[0mprompt\u001b[0m\u001b[0;34m)\u001b[0m\u001b[0;34m,\u001b[0m\u001b[0;34m\u001b[0m\u001b[0;34m\u001b[0m\u001b[0m\n\u001b[1;32m   1009\u001b[0m             \u001b[0mself\u001b[0m\u001b[0;34m.\u001b[0m\u001b[0m_parent_ident\u001b[0m\u001b[0;34m[\u001b[0m\u001b[0;34m\"shell\"\u001b[0m\u001b[0;34m]\u001b[0m\u001b[0;34m,\u001b[0m\u001b[0;34m\u001b[0m\u001b[0;34m\u001b[0m\u001b[0m\n",
      "\u001b[0;32m/opt/homebrew/anaconda3/lib/python3.8/site-packages/ipykernel/kernelbase.py\u001b[0m in \u001b[0;36m_input_request\u001b[0;34m(self, prompt, ident, parent, password)\u001b[0m\n\u001b[1;32m   1050\u001b[0m             \u001b[0;32mexcept\u001b[0m \u001b[0mKeyboardInterrupt\u001b[0m\u001b[0;34m:\u001b[0m\u001b[0;34m\u001b[0m\u001b[0;34m\u001b[0m\u001b[0m\n\u001b[1;32m   1051\u001b[0m                 \u001b[0;31m# re-raise KeyboardInterrupt, to truncate traceback\u001b[0m\u001b[0;34m\u001b[0m\u001b[0;34m\u001b[0m\u001b[0;34m\u001b[0m\u001b[0m\n\u001b[0;32m-> 1052\u001b[0;31m                 \u001b[0;32mraise\u001b[0m \u001b[0mKeyboardInterrupt\u001b[0m\u001b[0;34m(\u001b[0m\u001b[0;34m\"Interrupted by user\"\u001b[0m\u001b[0;34m)\u001b[0m \u001b[0;32mfrom\u001b[0m \u001b[0;32mNone\u001b[0m\u001b[0;34m\u001b[0m\u001b[0;34m\u001b[0m\u001b[0m\n\u001b[0m\u001b[1;32m   1053\u001b[0m             \u001b[0;32mexcept\u001b[0m \u001b[0mException\u001b[0m\u001b[0;34m:\u001b[0m\u001b[0;34m\u001b[0m\u001b[0;34m\u001b[0m\u001b[0m\n\u001b[1;32m   1054\u001b[0m                 \u001b[0mself\u001b[0m\u001b[0;34m.\u001b[0m\u001b[0mlog\u001b[0m\u001b[0;34m.\u001b[0m\u001b[0mwarning\u001b[0m\u001b[0;34m(\u001b[0m\u001b[0;34m\"Invalid Message:\"\u001b[0m\u001b[0;34m,\u001b[0m \u001b[0mexc_info\u001b[0m\u001b[0;34m=\u001b[0m\u001b[0;32mTrue\u001b[0m\u001b[0;34m)\u001b[0m\u001b[0;34m\u001b[0m\u001b[0;34m\u001b[0m\u001b[0m\n",
      "\u001b[0;31mKeyboardInterrupt\u001b[0m: Interrupted by user"
     ]
    }
   ],
   "source": [
    "# Enter your code here. Read input from STDIN. Print output to STDOUT\n",
    "\n",
    "x = int(input())\n",
    "\n",
    "dphone = {}\n",
    "\n",
    "for i in range(x):\n",
    "    text = input().split()\n",
    "    dphone[text[0]] = text[1]\n",
    "\n",
    "while True:\n",
    "    try:\n",
    "        inpt = input()\n",
    "        if inpt in dphone:\n",
    "            print(inpt+\"=\"+dphone[inpt])\n",
    "        else:\n",
    "            print(\"Not found\")\n",
    "    except EOFError:\n",
    "        break"
   ]
  },
  {
   "cell_type": "code",
   "execution_count": null,
   "metadata": {},
   "outputs": [],
   "source": []
  }
 ],
 "metadata": {
  "interpreter": {
   "hash": "38cca0c38332a56087b24af0bc80247f4fced29cb4f7f437d91dc159adec9c4e"
  },
  "kernelspec": {
   "display_name": "Python 3.8.12 ('base')",
   "language": "python",
   "name": "python3"
  },
  "language_info": {
   "codemirror_mode": {
    "name": "ipython",
    "version": 3
   },
   "file_extension": ".py",
   "mimetype": "text/x-python",
   "name": "python",
   "nbconvert_exporter": "python",
   "pygments_lexer": "ipython3",
   "version": "3.8.12"
  },
  "orig_nbformat": 4
 },
 "nbformat": 4,
 "nbformat_minor": 2
}
